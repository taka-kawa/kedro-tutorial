{
 "cells": [
  {
   "cell_type": "code",
   "execution_count": 1,
   "id": "dominant-alignment",
   "metadata": {},
   "outputs": [
    {
     "name": "stderr",
     "output_type": "stream",
     "text": [
      "/Users/takashi.c.kawashima/Documents/Study/kedro-tutorial/iris/.venv/lib/python3.8/site-packages/kedro/framework/context/context.py:663: DeprecationWarning: `kedro.framework.context.load_context` is now deprecated in favour of `KedroSession.load_context` and will be removed in Kedro 0.18.0.\n",
      "  warn(\n"
     ]
    }
   ],
   "source": [
    "from pathlib import Path\n",
    "from kedro.framework.context import load_context\n",
    " \n",
    "current_dir = Path.cwd()  \n",
    "proj_path = current_dir.parent  \n",
    "context = load_context(proj_path)"
   ]
  },
  {
   "cell_type": "code",
   "execution_count": 2,
   "id": "sustainable-tract",
   "metadata": {},
   "outputs": [
    {
     "name": "stdout",
     "output_type": "stream",
     "text": [
      "2021-01-14 12:41:57,399 - kedro.io.data_catalog - INFO - Loading data from `example_iris_data` (CSVDataSet)...\n",
      "2021-01-14 12:41:57,818 - iris.pipelines.data_science.nodes - INFO - Model accuracy on test set: 93.33%\n"
     ]
    }
   ],
   "source": [
    "from iris.pipelines.data_engineering.nodes import split_data\n",
    "from iris.pipelines.data_science.nodes import train_model, predict, report_accuracy\n",
    "\n",
    "df = catalog.load(\"example_iris_data\")\n",
    "df_dict = split_data(df, context.params['example_test_data_ratio'])\n",
    "model = train_model(df_dict['train_x'], df_dict['train_y'], context.params)\n",
    "predict = predict(model, df_dict['test_x'])\n",
    "report_accuracy(predict, df_dict['test_y'], context.params)"
   ]
  }
 ],
 "metadata": {
  "kernelspec": {
   "display_name": "Iris",
   "language": "python",
   "name": "python3"
  },
  "language_info": {
   "codemirror_mode": {
    "name": "ipython",
    "version": 3
   },
   "file_extension": ".py",
   "mimetype": "text/x-python",
   "name": "python",
   "nbconvert_exporter": "python",
   "pygments_lexer": "ipython3",
   "version": "3.8.6"
  }
 },
 "nbformat": 4,
 "nbformat_minor": 5
}
